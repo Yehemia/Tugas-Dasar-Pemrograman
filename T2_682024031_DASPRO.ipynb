{
 "cells": [
  {
   "cell_type": "code",
   "execution_count": 1,
   "metadata": {},
   "outputs": [
    {
     "name": "stdout",
     "output_type": "stream",
     "text": [
      "Jadi luas layang-layang = 225.0 cm^2\n",
      "jadi keliling layang-layang = 68 cm\n"
     ]
    }
   ],
   "source": [
    "# Yehemia Gauand Rizki Mihing Sera (682024031)\n",
    "# Fedora Lucky Nur Widyadhari (682024028)\n",
    "# tugas2 menghitung luas dan keliling layang-layang\n",
    "\n",
    "diag1 = int(input('masukan panjang diagonal 1: '))  #Simpan hasil input ke variabel diag1\n",
    "diag2 = int(input('masukan panjang diagonal 2: '))  #Simpan hasil input ke variabel diag2\n",
    "\n",
    "panjang_ab = int(input('masukan panjang ab: ')) #Simpan hasil input ke variabel panjang_ab\n",
    "panjang_bc = int(input('masukan panjang bc: ')) #Simpan hasil input ke variabel panjang_bc\n",
    "\n",
    "#menghitung luas layang-layang dengan rumus\n",
    "def luas(d1, d2):\n",
    "    luas = (d1 * d2) / 2\n",
    "    return luas\n",
    "#menghitung keliling layang-layang dengan rumus\n",
    "def keliling(a, b):\n",
    "    keliling = 2 * (a + b)\n",
    "    return keliling\n",
    "\n",
    "#cetak hasil luas dan keliling\n",
    "luas_layang_layang = print(f'Jadi luas layang-layang = {luas(diag1, diag2)} cm^2')\n",
    "keliling_layang_layang = print(f'jadi keliling layang-layang = {keliling(panjang_ab, panjang_bc)} cm')\n"
   ]
  }
 ],
 "metadata": {
  "kernelspec": {
   "display_name": "Python 3",
   "language": "python",
   "name": "python3"
  },
  "language_info": {
   "codemirror_mode": {
    "name": "ipython",
    "version": 3
   },
   "file_extension": ".py",
   "mimetype": "text/x-python",
   "name": "python",
   "nbconvert_exporter": "python",
   "pygments_lexer": "ipython3",
   "version": "3.12.5"
  }
 },
 "nbformat": 4,
 "nbformat_minor": 2
}
