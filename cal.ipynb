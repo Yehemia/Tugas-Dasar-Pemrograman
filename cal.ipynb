{
 "cells": [
  {
   "cell_type": "code",
   "execution_count": null,
   "metadata": {},
   "outputs": [],
   "source": [
    "import tkinter as tk \n",
    "\n",
    "def on_enter(e):\n",
    "    e.widget['background'] = '#bdb7b7'\n",
    "\n",
    "def on_leave(e):\n",
    "    e.widget['background'] = '#ffffff'\n",
    "\n",
    "def tombol_klik(simbol):\n",
    "    saat_ini = tampilan.get() \n",
    "    \n",
    "    if saat_ini == \"Error\":\n",
    "        tampilan.set(\"\")\n",
    "    elif simbol == \"=\":\n",
    "        try:\n",
    "            hasil = eval(saat_ini)\n",
    "            tampilan.set(hasil)\n",
    "        except ZeroDivisionError:\n",
    "            tampilan.set(\"Error\")\n",
    "        except SyntaxError:\n",
    "            tampilan.set(\"Error\")\n",
    "    elif simbol == \"AC\":\n",
    "        tampilan.set(\"\")\n",
    "    elif simbol == \"DEL\":\n",
    "        saat_ini = saat_ini[:-1]\n",
    "        tampilan.set(saat_ini)"
   ]
  }
 ],
 "metadata": {
  "language_info": {
   "name": "python"
  }
 },
 "nbformat": 4,
 "nbformat_minor": 2
}
