{
 "cells": [
  {
   "cell_type": "code",
   "execution_count": 12,
   "metadata": {},
   "outputs": [
    {
     "name": "stdout",
     "output_type": "stream",
     "text": [
      "harga_mobil = Rp.100000000\n",
      "pembayaran awal = Rp.10000000\n",
      "angsuran perbulan = Rp.500000\n",
      "Jadi hutang pak Budi DO RE MI akan lunas dalam 180 bulan \n"
     ]
    }
   ],
   "source": [
    "# dikarenakan data sudah ada saya langsung memasukan kedalam rumus\n",
    "import math\n",
    "def hitung_lama_pelunasan(harga_mobil,pembayaran_awal,angsuran_perbulan):\n",
    "    sisa_harga_yang_harus_dibayar = harga_mobil - pembayaran_awal\n",
    "    jumlah_bulan_hingga_lunas = sisa_harga_yang_harus_dibayar / angsuran_perbulan\n",
    "    jumlah_bulan_hingga_lunas = math.ceil(jumlah_bulan_hingga_lunas)\n",
    "    return jumlah_bulan_hingga_lunas\n",
    "# karena output yang keluar menjadi .0 dibelakang, saya menggunakan math.ceil agar dibulatkan keatas\n",
    "harga_mobil = 100000000\n",
    "print(f\"harga_mobil = Rp.{harga_mobil}\")\n",
    "\n",
    "pembayaran_awal = 10000000\n",
    "print(f\"pembayaran awal = Rp.{pembayaran_awal}\")\n",
    "\n",
    "angsuran_perbulan = 500000\n",
    "print(f\"angsuran perbulan = Rp.{angsuran_perbulan}\")\n",
    "\n",
    "lama_pelunasan = hitung_lama_pelunasan(harga_mobil, pembayaran_awal, angsuran_perbulan)\n",
    "# lama pelunasan = (harga mobil - pembayaran awal)/angsuran perbulan\n",
    "print(f\"Jadi hutang pak Budi DO RE MI akan lunas dalam {lama_pelunasan} bulan \")"
   ]
  }
 ],
 "metadata": {
  "kernelspec": {
   "display_name": "Python 3",
   "language": "python",
   "name": "python3"
  },
  "language_info": {
   "codemirror_mode": {
    "name": "ipython",
    "version": 3
   },
   "file_extension": ".py",
   "mimetype": "text/x-python",
   "name": "python",
   "nbconvert_exporter": "python",
   "pygments_lexer": "ipython3",
   "version": "3.11.9"
  }
 },
 "nbformat": 4,
 "nbformat_minor": 2
}
