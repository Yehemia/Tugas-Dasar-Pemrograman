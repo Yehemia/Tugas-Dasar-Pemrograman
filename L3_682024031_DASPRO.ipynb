{
 "cells": [
  {
   "cell_type": "code",
   "execution_count": 2,
   "metadata": {},
   "outputs": [
    {
     "name": "stdout",
     "output_type": "stream",
     "text": [
      "90\n",
      "Anda mendapatkan predikat terpuji\n"
     ]
    }
   ],
   "source": [
    "# Latihan 3\n",
    "\n",
    "nilai = int(input(\"Masukkan Nilai ujian: \"))\n",
    "print(nilai)\n",
    "\n",
    "if nilai >= 90:\n",
    "    print(\"Anda mendapatkan predikat terpuji\")\n",
    "elif nilai >= 80:\n",
    "    print(\"Anda mendapatkan predikat baik sekali\")\n",
    "elif nilai >= 70:\n",
    "    print(\"Anda mendapatkan predikat baik\")\n",
    "elif nilai >= 60:\n",
    "    print(\"Anda mendapatkan predikat cukup\")\n",
    "else:\n",
    "    print(\"Maaf anda tidak mendapatkan predikat\")"
   ]
  }
 ],
 "metadata": {
  "kernelspec": {
   "display_name": "Python 3",
   "language": "python",
   "name": "python3"
  },
  "language_info": {
   "codemirror_mode": {
    "name": "ipython",
    "version": 3
   },
   "file_extension": ".py",
   "mimetype": "text/x-python",
   "name": "python",
   "nbconvert_exporter": "python",
   "pygments_lexer": "ipython3",
   "version": "3.12.4"
  }
 },
 "nbformat": 4,
 "nbformat_minor": 2
}
